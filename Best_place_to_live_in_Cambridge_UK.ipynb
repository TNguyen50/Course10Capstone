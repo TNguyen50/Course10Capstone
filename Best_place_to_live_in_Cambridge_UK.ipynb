{
    "cells": [
        {
            "cell_type": "markdown",
            "metadata": {
                "collapsed": true
            },
            "source": "##  <div align=\"center\"> Using data approach to identify the best place of living in Cambridge city, UK\n<div align=\"center\"> By Hiep Nguyen"
        },
        {
            "cell_type": "markdown",
            "metadata": {},
            "source": "### Table of contents\n[1. Introduction](#Introduction) <br>\n[2. Data](#Data)<br>\n[3. Methodology](#Methodology)<br>\n[4. Results](#Results)<br>\n[5. Discussion](#Discussion)<br>\n[6.\tConclusion](#Conclusion)"
        },
        {
            "cell_type": "markdown",
            "metadata": {},
            "source": "### 1. Introduction <a name=\"Introduction\"></a>\n#### 1.1\tBackground\nI recently received a job offer to move to Cambridge city, UK. After searching for some basic information on Google as such cost of living, schooling, housing, rate of crimes\u2026 in each district in Cambridge city and some nearby cities in Cambridgeshire, I am getting lost.\n\nEspecially when I read a news posted in a recent poll that indicated \u201cPeterborough has retained its unwanted crown as England\u2019s worst place to live, topping an online poll for the third year running.\u201d https://www.cambridge-news.co.uk/news/local-news/peterborough-named-worst-place-live-19560796. While Peterborough is a cathedral city and unitary authority area in the north of Cambridgeshire. This will affect my selection where to live in Cambridge city or its nearby city/town/village.\n#### 1.2\tBusiness problem\nThe main problem is there is no consolidated report based on data that combines all the information and shares insights about which areas are the best places to live in Cambridge city or Cambridgeshire. This should be based on variety and high dense of essential venues, affordable price of housing, lower rate of crimes\u2026\n\nFor whoever like me, planning to move into Cambridge city or already in UK but looking to move into Cambridge city, can be beneficial to this insight to decide the best place to live, according to each own specific preference.\n#### 1.3\tFact \n\u201cCambridgeshire is noted as the site of Flag Fen in Fengate, one of the earliest-known Neolithic permanent settlements in the United Kingdom, compared in importance to Balbridie in Aberdeen, Scotland.\u201d Wikipedia. Its in the Eastern part of England. Cambridge city is at the center of Cambridgeshire, homes to the prestigious University of Cambridge, the 2nd oldest English university in the world, dating from 1209. Cambridge city lays on the River Cam, around 55 miles (89km) north of London, heart of the high-technology Silicon Fen for software and bioscience (over 40% of workforce with higher education qualification). From the UK census 2011, its population is approximately 158,000 people.\n\nThere are 123 wards in Cambridgeshire in which 14 wards are in Cambridge city. Along with focusing on these 14 wards in Cambridge city, the more wards close to Cambridge are considered, the better information is available for end-user like me to understand the pros and cons to choose a suitable place to live.\n\nMany available website as such [UK local area](https://www.uklocalarea.com), [One Dome](https://www.onedome.com/) which provide quite interesting indicators for reference on the side."
        },
        {
            "cell_type": "markdown",
            "metadata": {},
            "source": "### 2. Data <a name=\"Data\"></a>\nData which is going to use in this project will include essential venues from Foursquare, price of housing over years, crimes record, traffic accidents, public wifi access\u2026 for Cambridge (and possible for other nearby villages if time and data allow).\n\nMost of the data is collected from [data.cambridgeshireinsight](https://data.cambridgeshireinsight.org.uk/) which is an open data portal for Cambridgeshire and Peterborough.\n\n**Other sources:**<br>\n[UK Postcode data](https://www.nomisweb.co.uk/output/census/2011/Postcode_Estimates_Table_1.csv)\n\n[Cambridgeshire parishes database](http://cambridgeshire.wpengine.com/wp-content/uploads/2017/12/Census-database_Parishes.xls)\n\n[UK Census 2011 data](https://cambridgeshireinsight.org.uk/population/census-2011/)\n\n[Official Statistics of UK indices for deprivation in 2010 which is published 24 March 2011](https://www.gov.uk/government/statistics/english-indices-of-deprivation-2010)\n"
        },
        {
            "cell_type": "code",
            "execution_count": null,
            "metadata": {},
            "outputs": [],
            "source": ""
        }
    ],
    "metadata": {
        "kernelspec": {
            "display_name": "Python 3.7",
            "language": "python",
            "name": "python3"
        },
        "language_info": {
            "codemirror_mode": {
                "name": "ipython",
                "version": 3
            },
            "file_extension": ".py",
            "mimetype": "text/x-python",
            "name": "python",
            "nbconvert_exporter": "python",
            "pygments_lexer": "ipython3",
            "version": "3.7.10"
        }
    },
    "nbformat": 4,
    "nbformat_minor": 1
}